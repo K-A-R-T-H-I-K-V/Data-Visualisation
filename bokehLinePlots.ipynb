{
 "cells": [
  {
   "cell_type": "code",
   "execution_count": 14,
   "id": "74ba65c2-a111-4212-a8a9-3827ac8debcf",
   "metadata": {},
   "outputs": [],
   "source": [
    "import numpy as np\n",
    "from bokeh.layouts import gridplot\n",
    "from bokeh.plotting import figure, show\n",
    "\n",
    "x = np.linspace(0, 4 * np.pi, 100) # generates random values between 0 and 4pi\n",
    "y = np.sin(x) # computes sin of each value in x and stores it in y\n",
    "\n",
    "\n",
    "# In bokeh, tools are interactive elements that allow users to interact with and manipulate plots.\n",
    "# These tools can be added to enhance the user experience and provide functionality such as panning, zooming, ...\n",
    "#These tools are specified as c comma-separated string in the 'TOOLS' variable and are passed to the 'figure' function \n",
    "# when creating a new plot\n",
    "TOOLS = \"pan, wheel_zoom, box_zoom, reset, save, box_select\"\n",
    "\n",
    "p1 = figure(title = \"Example 1\", tools = TOOLS)\n",
    "\n",
    "p1.circle(x, y, legend_label = \"sin(x)\")\n",
    "p1.circle(x, 2 * y, legend_label = \"2 * sin(x)\", color = \"orange\")\n",
    "p1.circle(x, 3 * y, legend_label = \"3 * sin(x)\", color = 'green')\n",
    "\n",
    "p1.legend.title = 'Markers'\n",
    "\n",
    "p2 = figure(title = 'Example 2', tools = TOOLS)\n",
    "\n",
    "p2.circle(x, y, legend_label = 'sin(x)')\n",
    "p2.line(x, y, legend_label = 'sin(x)')\n",
    "\n",
    "# line_dash = (4, 4) implies that the line will be composed of dashes with lengths of 4 screen units\n",
    "# followed by gaps of 4 screen units, creating a dashed effect\n",
    "p2.line(x, 2 * y, legend_label = '2 * sin(x)', line_dash = (8, 2), line_color = 'orange', line_width = 2)\n",
    "\n",
    "p2.square(x, 3 * y, legend_label = '3 * sin(x)', fill_color = None, line_color = 'green')\n",
    "p2.line(x, 3 * y, legend_label = '3 * sin(x)', line_color = 'green')\n",
    "\n",
    "p2.legend.title = 'Lines'\n",
    "\n",
    "show(gridplot([p1, p2], ncols = 2, width = 400, height = 400))"
   ]
  },
  {
   "cell_type": "code",
   "execution_count": 11,
   "id": "81f485d9-ad51-4b04-b472-ddf1ca1662b6",
   "metadata": {},
   "outputs": [],
   "source": [
    "import numpy as np\n",
    "from bokeh.plotting import figure, show\n",
    "\n",
    "x = np.arange(0, 5, 1)\n",
    "y = np.random.random(5) * 100\n",
    "\n",
    "TOOLS = \"pan, wheel_zoom, box_zoom, reset, save, box_select\"\n",
    "\n",
    "p = figure(title = 'Simple Bar Plot', x_axis_label = 'Time',  y_axis_label = 'Acceleration', tools = TOOLS)\n",
    "\n",
    "p.vbar(x = x, top = y, legend_label ='Random', width = 0.5, bottom = 0, color = 'red')\n",
    "\n",
    "p.legend.title = 'Bar Graphs'\n",
    "\n",
    "show(p)"
   ]
  },
  {
   "cell_type": "code",
   "execution_count": null,
   "id": "5f56c188-08d6-460b-8251-050594328beb",
   "metadata": {},
   "outputs": [],
   "source": []
  }
 ],
 "metadata": {
  "kernelspec": {
   "display_name": "Python 3 (ipykernel)",
   "language": "python",
   "name": "python3"
  },
  "language_info": {
   "codemirror_mode": {
    "name": "ipython",
    "version": 3
   },
   "file_extension": ".py",
   "mimetype": "text/x-python",
   "name": "python",
   "nbconvert_exporter": "python",
   "pygments_lexer": "ipython3",
   "version": "3.11.7"
  }
 },
 "nbformat": 4,
 "nbformat_minor": 5
}
